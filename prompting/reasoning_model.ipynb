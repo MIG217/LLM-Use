{
 "cells": [
  {
   "cell_type": "markdown",
   "id": "17f8f585",
   "metadata": {},
   "source": [
    "\n",
    "## 🎯 Prompting Strategy for Reasoning Models\n",
    "\n",
    "### 🧩 Core Principles\n",
    "\n",
    "#### 1. Simple and Direct\n",
    "For reasoning models like **DeepSeek Reasoner**, avoid adding explicit **Chain-of-Thought (CoT)** guidance. Let the model handle reasoning internally.\n",
    "\n",
    "Providing unnecessary thinking steps may interfere with the model’s built-in logic and lead to:\n",
    "- Verbose or irrelevant output\n",
    "- Inaccurate answers\n",
    "- Refusals\n",
    "\n",
    "---\n",
    "\n",
    "### ❌ Bad Prompting\n",
    "\n",
    "#### 🔻 Characteristics\n",
    "- Forces explicit “step-by-step” instructions\n",
    "- Overly detailed and rigid guidance\n",
    "- May result in:\n",
    "  - Excessive verbosity\n",
    "  - Incorrect answers\n",
    "  - Refusals\n",
    "\n",
    "#### 🧪 Example\n",
    "\n",
    "```\n",
    "生成一个函数，输出所有涉及股票交易的关键财务指标。\n",
    "请逐步思考，不要跳过任何步骤:\n",
    "- 确定所有涉及股票交易的财务指标\n",
    "- 编写该函数\n",
    "- 遍历每个指标，将其输入函数并返回计算结果\n",
    "财务指标：\n",
    "```\n",
    "\n",
    "📉 Model behavior: verbose output, reduced reasoning quality\n",
    "\n",
    "---\n",
    "\n",
    "### ✅ Good Prompting\n",
    "\n",
    "#### 🔺 Characteristics\n",
    "- Clear and direct intent\n",
    "- Avoids over-guiding the reasoning process\n",
    "- Leaves room for model autonomy\n",
    "\n",
    "#### 🧪 Example\n",
    "\n",
    "```\n",
    "生成一个函数，输出所有涉及股票交易的关键财务指标。\n",
    "```\n",
    "\n",
    "📈 Model behavior: concise and accurate function generation\n",
    "\n",
    "---\n",
    "\n",
    "### 📚 Bonus: Structured Formats\n",
    "\n",
    "Using structured input formats like pseudo-XML or Markdown can improve response consistency.\n",
    "\n",
    "#### 🧪 Example\n",
    "\n",
    "```xml\n",
    "<instructions>你是一名 AnyCorp（高端存储解决方案提供商）的客服助理。你的职责是根据公司的政策回答用户的问题。请始终保持友善和尊重。</instructions>\n",
    "<policy>\n",
    "  1. **退款政策**\n",
    "     - 你有权根据 AnyCorp 的退款指南向客户提供退款。\n",
    "     - 确保所有退款交易得到妥善记录，并及时处理。\n",
    "  2. **投诉记录**\n",
    "     - 认真倾听客户的投诉，并准确记录所有相关细节。\n",
    "     - 向客户保证他们的顾虑会得到处理，并在必要时升级问题。\n",
    "  3. **产品信息提供**\n",
    "     - 提供关于 AnyCorp 存储解决方案的准确、有用的信息。\n",
    "</policy>\n",
    "```\n",
    "\n",
    "---\n",
    "\n",
    "### ✅ Summary Table\n",
    "\n",
    "| Prompt Type                  | Recommended | Reason |\n",
    "|-----------------------------|-------------|--------|\n",
    "| Simple, direct task prompt  | ✅          | Enhances reasoning ability |\n",
    "| Over-guided CoT instruction | ❌          | Interferes with model reasoning |\n",
    "| Structured formatting       | ✅          | Improves consistency |\n"
   ]
  },
  {
   "cell_type": "code",
   "execution_count": 1,
   "id": "87697b18-9937-4cec-928f-3abf8f4498d0",
   "metadata": {},
   "outputs": [],
   "source": [
    "import os\n",
    "import warnings\n",
    "\n",
    "warnings.filterwarnings('ignore') \n",
    "deepseek_api_key = os.getenv(\"DEEPSEEK_API_KEY\")"
   ]
  },
  {
   "cell_type": "code",
   "execution_count": 2,
   "id": "08e083be-39fd-4afa-bf67-8091e67f7b7d",
   "metadata": {},
   "outputs": [],
   "source": [
    "import json\n",
    "from IPython.display import display, Markdown, HTML\n",
    "from openai import OpenAI\n",
    "\n",
    "client = OpenAI(api_key=deepseek_api_key, base_url=\"https://api.deepseek.com\")"
   ]
  },
  {
   "cell_type": "code",
   "execution_count": 3,
   "id": "45c828bd-bae6-4393-ac60-55620e354d99",
   "metadata": {},
   "outputs": [],
   "source": [
    "V3_MODEL = 'deepseek-chat'\n",
    "R1_MODEL = 'deepseek-reasoner'"
   ]
  },
  {
   "cell_type": "code",
   "execution_count": 4,
   "id": "b1d5fe9f-826f-404d-bdf1-9bcc8ab2b0cd",
   "metadata": {},
   "outputs": [],
   "source": [
    "response = client.chat.completions.create(\n",
    "    model=\"deepseek-reasoner\",\n",
    "    messages=[\n",
    "       # {\"role\": \"system\", \"content\": \"You are a helpful assistant\"},\n",
    "        {\"role\": \"user\", \"content\": \"How many r's are in Strawberry?\"}\n",
    "    ],\n",
    "    stream=False\n",
    ")"
   ]
  },
  {
   "cell_type": "code",
   "execution_count": 5,
   "id": "2e23d7d0-7322-487c-be75-ab101730436c",
   "metadata": {},
   "outputs": [
    {
     "data": {
      "text/plain": [
       "ChatCompletion(id='8b1f356b-7d6a-4f46-abdd-ae1d3678cfb5', choices=[Choice(finish_reason='stop', index=0, logprobs=None, message=ChatCompletionMessage(content='The word \"Strawberry\" is spelled S-T-R-A-W-B-E-R-R-Y. Breaking it down:\\n\\n1. **S**\\n2. **T**\\n3. **R**\\n4. **A**\\n5. **W**\\n6. **B**\\n7. **E**\\n8. **R**\\n9. **R**\\n10. **Y**\\n\\nThe letter **r** appears at positions **3**, **8**, and **9**.  \\n\\n**Answer:** There are \\\\boxed{3} r\\'s in \"Strawberry\".', refusal=None, role='assistant', annotations=None, audio=None, function_call=None, tool_calls=None, reasoning_content='Okay, so I need to figure out how many times the letter \"r\" appears in the word \"Strawberry\". Let me start by writing the word out and then looking at each letter one by one.\\n\\nFirst, let\\'s spell \"Strawberry\" correctly. Wait, sometimes people might misspell it, but I think it\\'s S-T-R-A-W-B-E-R-R-Y. Let me check that. Yeah, Strawberry is spelled S-T-R-A-W-B-E-R-R-Y. So, let me write each letter with a number to track their positions:\\n\\n1. S\\n2. T\\n3. R\\n4. A\\n5. W\\n6. B\\n7. E\\n8. R\\n9. R\\n10. Y\\n\\nWait, hold on. Let me count the letters again. S (1), T (2), R (3), A (4), W (5), B (6), E (7), R (8), R (9), Y (10). Hmm, but that\\'s 10 letters. Let me confirm the spelling again. The correct spelling of Strawberry is S-T-R-A-W-B-E-R-R-Y. So, yes, after the B comes E, then R, R, and Y. So positions 8 and 9 are both R\\'s. That means there are two R\\'s in Strawberry. Wait, but the third letter is also an R. Wait, position 3 is R, then positions 8 and 9 are R\\'s. So that would be three R\\'s total. Wait, but let me check again.\\n\\nBreaking it down:\\n\\nS (1)\\nT (2)\\nR (3)\\nA (4)\\nW (5)\\nB (6)\\nE (7)\\nR (8)\\nR (9)\\nY (10)\\n\\nSo, R appears at position 3, 8, and 9. That\\'s three R\\'s. But I think I might be making a mistake here because I remember that Strawberry is spelled with two R\\'s. Let me verify the correct spelling. Maybe I added an extra R by accident. Let me look it up mentally. The correct spelling is S-T-R-A-W-B-E-R-R-Y. Yes, after the E, there are two R\\'s followed by Y. So that would be R at position 3, and then two R\\'s at positions 8 and 9. Therefore, total of three R\\'s. Wait, but when I say the word out loud, \"Straw-berry\", the \"ber\" part is one R, right? Wait, maybe I\\'m confusing the pronunciation. Let me think again. The word is Strawberry. The \"straw\" part is S-T-R-A-W, then \"berry\" is B-E-R-R-Y. So in \"berry\", there are two R\\'s. So in total, the R\\'s are in \"straw\" (the third letter) and then two R\\'s in \"berry\". So that\\'s three R\\'s. Therefore, the answer should be three. But I feel like maybe I\\'m overcounting. Let me write the letters again:\\n\\nS, T, R, A, W, B, E, R, R, Y.\\n\\nYes, that\\'s 10 letters. The R\\'s are at positions 3, 8, and 9. So three R\\'s. Hmm. Wait, but when I think of how it\\'s pronounced, sometimes people might think there\\'s only two R\\'s because the \"ber\" part is followed by another R. Wait, maybe I need to confirm the spelling once more. Let me visualize the word: S-T-R-A-W-B-E-R-R-Y. So after B comes E, then R, R, Y. So yes, two R\\'s after the E. And one R in the \"straw\" part. So total three R\\'s. Therefore, the answer is 3. But I\\'m now confused because I initially thought maybe two. Maybe I made a mistake in the spelling. Let me check another way. If I split the word into \"straw\" and \"berry\", then \"straw\" has one R, and \"berry\" has two R\\'s. So total three. Yes, that\\'s correct. So the answer should be three R\\'s in Strawberry.'))], created=1742255166, model='deepseek-reasoner', object='chat.completion', service_tier=None, system_fingerprint='fp_5417b77867_prod0225', usage=CompletionUsage(completion_tokens=1005, prompt_tokens=14, total_tokens=1019, completion_tokens_details=CompletionTokensDetails(accepted_prediction_tokens=None, audio_tokens=None, reasoning_tokens=891, rejected_prediction_tokens=None), prompt_tokens_details=PromptTokensDetails(audio_tokens=None, cached_tokens=0), prompt_cache_hit_tokens=0, prompt_cache_miss_tokens=14))"
      ]
     },
     "execution_count": 5,
     "metadata": {},
     "output_type": "execute_result"
    }
   ],
   "source": [
    "response"
   ]
  },
  {
   "cell_type": "markdown",
   "id": "20aab740-ad08-4dba-9738-61c5a4c774f6",
   "metadata": {},
   "source": [
    "## Principles\n",
    "\n",
    "### 1. Simple and direct\n",
    "\n",
    "### 2. No explicit CoT required\n",
    "\n",
    "The first principles we start with are **simple and direct** prompting and avoiding providing **explicit guidance or CoT**. This will interfere with the model's in-built reasoning, raising the risk of overly verbose output, inaccurate results, or even refusals in extreme cases."
   ]
  },
  {
   "cell_type": "code",
   "execution_count": 6,
   "id": "3176bdfd-b15a-4fc4-885b-4257f6430672",
   "metadata": {},
   "outputs": [],
   "source": [
    "bad_prompt = (\"生成一个函数，输出所有涉及股票交易的关键财务指标。\"  \n",
    "              \"请逐步思考，不要跳过任何步骤: \"\n",
    "              \"- 确定所有涉及股票交易的财务指标\" \n",
    "              \"- 编写该函数\"\n",
    "              \"- 遍历每个指标，将其输入函数并返回计算结果\"  \n",
    "              \"财务指标：\")\n",
    "response = client.chat.completions.create(model=R1_MODEL, messages=[{\"role\":\"user\",\"content\": bad_prompt}])"
   ]
  },
  {
   "cell_type": "code",
   "execution_count": 7,
   "id": "68379ec6-bcf4-4858-803d-387736ec54c3",
   "metadata": {},
   "outputs": [
    {
     "data": {
      "text/html": [
       "<div style=\"background-color: #f0fff8; padding: 10px; border-radius: 5px; border: 1px solid #d3d3d3;\"></hr><h2>🔽 &nbsp; Markdown Output – Beginning</h2></hr></div>"
      ],
      "text/plain": [
       "<IPython.core.display.HTML object>"
      ]
     },
     "metadata": {},
     "output_type": "display_data"
    },
    {
     "data": {
      "text/markdown": [
       "以下是一个生成股票交易关键财务指标的函数，包含逐步分析和代码实现：\n",
       "\n",
       "```python\n",
       "def calculate_stock_metrics(\n",
       "    # 基础参数\n",
       "    current_price: float,\n",
       "    shares_outstanding: float,\n",
       "    \n",
       "    # 利润表参数\n",
       "    net_income: float,\n",
       "    revenue: float,\n",
       "    ebitda: float,\n",
       "    dividend_payments: float,\n",
       "    \n",
       "    # 资产负债表参数\n",
       "    total_assets: float,\n",
       "    total_liabilities: float,\n",
       "    current_assets: float,\n",
       "    current_liabilities: float,\n",
       "    inventory: float,\n",
       "    total_equity: float,\n",
       "    \n",
       "    # 增长指标\n",
       "    eps_growth_rate: float,\n",
       "    \n",
       "    # 其他参数\n",
       "    enterprise_value: float = None\n",
       ") -> dict:\n",
       "    \"\"\"\n",
       "    计算股票交易关键财务指标\n",
       "    包含针对除零错误的安全处理\n",
       "    \"\"\"\n",
       "    \n",
       "    metrics = {}\n",
       "    \n",
       "    # 1. 估值指标\n",
       "    try:\n",
       "        metrics[\"P/E Ratio\"] = current_price / (net_income/shares_outstanding)  # 市盈率\n",
       "    except ZeroDivisionError:\n",
       "        metrics[\"P/E Ratio\"] = float(\"inf\")\n",
       "    \n",
       "    try:\n",
       "        metrics[\"P/B Ratio\"] = current_price / ((total_assets - total_liabilities)/shares_outstanding)  # 市净率\n",
       "    except ZeroDivisionError:\n",
       "        metrics[\"P/B Ratio\"] = float(\"inf\")\n",
       "    \n",
       "    try:\n",
       "        metrics[\"P/S Ratio\"] = (current_price * shares_outstanding) / revenue  # 市销率\n",
       "    except ZeroDivisionError:\n",
       "        metrics[\"P/S Ratio\"] = float(\"inf\")\n",
       "    \n",
       "    if enterprise_value:\n",
       "        try:\n",
       "            metrics[\"EV/EBITDA\"] = enterprise_value / ebitda  # 企业价值倍数\n",
       "        except ZeroDivisionError:\n",
       "            metrics[\"EV/EBITDA\"] = float(\"inf\")\n",
       "    \n",
       "    # 2. 盈利能力指标\n",
       "    try:\n",
       "        metrics[\"ROE\"] = net_income / total_equity  # 净资产收益率\n",
       "    except ZeroDivisionError:\n",
       "        metrics[\"ROE\"] = float(\"inf\")\n",
       "    \n",
       "    try:\n",
       "        metrics[\"ROA\"] = net_income / total_assets  # 资产回报率\n",
       "    except ZeroDivisionError:\n",
       "        metrics[\"ROA\"] = float(\"inf\")\n",
       "    \n",
       "    # 3. 分红指标\n",
       "    try:\n",
       "        metrics[\"Dividend Yield\"] = (dividend_payments / shares_outstanding) / current_price  # 股息率\n",
       "    except ZeroDivisionError:\n",
       "        metrics[\"Dividend Yield\"] = 0.0\n",
       "    \n",
       "    # 4. 成长性指标\n",
       "    try:\n",
       "        metrics[\"PEG Ratio\"] = metrics[\"P/E Ratio\"] / (eps_growth_rate * 100)  # PEG比率\n",
       "    except (ZeroDivisionError, KeyError):\n",
       "        metrics[\"PEG Ratio\"] = float(\"inf\")\n",
       "    \n",
       "    # 5. 流动性指标\n",
       "    try:\n",
       "        metrics[\"Current Ratio\"] = current_assets / current_liabilities  # 流动比率\n",
       "    except ZeroDivisionError:\n",
       "        metrics[\"Current Ratio\"] = float(\"inf\")\n",
       "    \n",
       "    try:\n",
       "        metrics[\"Quick Ratio\"] = (current_assets - inventory) / current_liabilities  # 速动比率\n",
       "    except ZeroDivisionError:\n",
       "        metrics[\"Quick Ratio\"] = float(\"inf\")\n",
       "    \n",
       "    # 6. 负债指标\n",
       "    try:\n",
       "        metrics[\"Debt/Equity\"] = total_liabilities / total_equity  # 负债权益比\n",
       "    except ZeroDivisionError:\n",
       "        metrics[\"Debt/Equity\"] = float(\"inf\")\n",
       "    \n",
       "    return metrics\n",
       "\n",
       "\"\"\"\n",
       "使用示例：\n",
       "metrics = calculate_stock_metrics(\n",
       "    current_price=150.0,\n",
       "    shares_outstanding=1e8,\n",
       "    net_income=5e7,\n",
       "    revenue=2e8,\n",
       "    ebitda=7.5e7,\n",
       "    dividend_payments=2e7,\n",
       "    total_assets=5e8,\n",
       "    total_liabilities=2e8,\n",
       "    current_assets=1.5e8,\n",
       "    current_liabilities=7e7,\n",
       "    inventory=3e7,\n",
       "    total_equity=3e8,\n",
       "    eps_growth_rate=0.15,\n",
       "    enterprise_value=1.2e9\n",
       ")\n",
       "\n",
       "for metric, value in metrics.items():\n",
       "    print(f\"{metric}: {value:.2f}\")\n",
       "\"\"\"\n",
       "\n",
       "# 关键指标说明：\n",
       "\"\"\"\n",
       "1. 估值指标：\n",
       "- P/E Ratio：每股市价与每股收益的比率\n",
       "- P/B Ratio：每股市价与每股净资产的比率\n",
       "- P/S Ratio：总市值与主营业务收入的比率\n",
       "- EV/EBITDA：企业价值与息税折旧前利润的比率\n",
       "\n",
       "2. 盈利能力：\n",
       "- ROE：净资产收益率\n",
       "- ROA：资产回报率\n",
       "\n",
       "3. 分红指标：\n",
       "- Dividend Yield：股息收益率\n",
       "\n",
       "4. 成长性：\n",
       "- PEG Ratio：市盈增长比率\n",
       "\n",
       "5. 流动性：\n",
       "- Current Ratio：流动比率\n",
       "- Quick Ratio：速动比率\n",
       "\n",
       "6. 负债指标：\n",
       "- Debt/Equity：负债权益比\n",
       "\"\"\"\n",
       "```\n",
       "\n",
       "### 函数特点：\n",
       "1. **全面覆盖**：包含6大类14个关键指标\n",
       "2. **安全处理**：所有计算均包含除零错误处理\n",
       "3. **模块化设计**：不同类别指标分组计算，便于扩展\n",
       "4. **类型注释**：明确参数类型和返回类型\n",
       "5. **企业价值可选**：EV/EBITDA仅在提供企业价值时计算\n",
       "\n",
       "### 使用注意事项：\n",
       "1. 需要确保输入参数单位一致（如全部使用同一货币单位）\n",
       "2. 增长率参数需要统一时间维度（建议使用年化增长率）\n",
       "3. 企业价值计算需要额外数据：EV = 市值 + 总负债 - 现金及等价物\n",
       "4. 对于新上市公司，部分历史数据可能需要调整计算方式\n",
       "\n",
       "可以通过添加更多财务比率或自定义计算逻辑来扩展此函数，建议结合具体投资策略选择关键指标。"
      ],
      "text/plain": [
       "<IPython.core.display.Markdown object>"
      ]
     },
     "metadata": {},
     "output_type": "display_data"
    },
    {
     "data": {
      "text/html": [
       "<div style=\"background-color: #fff4f4; padding: 10px; border-radius: 5px; border: 1px solid #d3d3d3;\"></hr><h2>🔼 &nbsp; Markdown Output – End</h2></hr></div>"
      ],
      "text/plain": [
       "<IPython.core.display.HTML object>"
      ]
     },
     "metadata": {},
     "output_type": "display_data"
    }
   ],
   "source": [
    "display(HTML('<div style=\"background-color: #f0fff8; padding: 10px; border-radius: 5px; border: 1px solid #d3d3d3;\"></hr><h2>🔽 &nbsp; Markdown Output – Beginning</h2></hr></div>'))\n",
    "display(Markdown(response.choices[0].message.content))\n",
    "display(HTML('<div style=\"background-color: #fff4f4; padding: 10px; border-radius: 5px; border: 1px solid #d3d3d3;\"></hr><h2>🔼 &nbsp; Markdown Output – End</h2></hr></div>'))"
   ]
  },
  {
   "cell_type": "code",
   "execution_count": 8,
   "id": "baa0a5e4-7478-4354-88fd-d0f8f28617a3",
   "metadata": {},
   "outputs": [],
   "source": [
    "good_prompt = (\"生成一个函数，输出所有涉及股票交易的关键财务指标。\")\n",
    "response = client.chat.completions.create(model=R1_MODEL,messages=[{\"role\":\"user\",\"content\": good_prompt}])"
   ]
  },
  {
   "cell_type": "code",
   "execution_count": 9,
   "id": "64c20017-4c2b-4091-9acc-21cf1e3488fa",
   "metadata": {},
   "outputs": [
    {
     "data": {
      "text/html": [
       "<div style=\"background-color: #f0fff8; padding: 10px; border-radius: 5px; border: 1px solid #d3d3d3;\"></hr><h2>🔽 &nbsp; Markdown Output – Beginning</h2></hr></div>"
      ],
      "text/plain": [
       "<IPython.core.display.HTML object>"
      ]
     },
     "metadata": {},
     "output_type": "display_data"
    },
    {
     "data": {
      "text/markdown": [
       "以下是一个生成股票交易关键财务指标的Python函数示例。该函数返回一个包含常见财务指标的字典，并附有指标说明：\n",
       "\n",
       "```python\n",
       "def get_stock_financial_indicators(stock_symbol):\n",
       "    \"\"\"\n",
       "    获取股票关键财务指标\n",
       "    参数：\n",
       "        stock_symbol (str): 股票代码\n",
       "    返回：\n",
       "        dict: 包含关键财务指标的字典\n",
       "    \"\"\"\n",
       "    # 这里需要接入实际财务数据API（如聚宽、雅虎财经等）\n",
       "    # 以下为模拟数据，实际使用时需替换为真实数据接口\n",
       "    \n",
       "    # 示例：从数据库/API获取原始数据（此处为mock数据）\n",
       "    mock_data = {\n",
       "        'pe_ratio': 15.6,          # 市盈率\n",
       "        'pb_ratio': 2.3,           # 市净率\n",
       "        'eps': 3.45,               # 每股收益\n",
       "        'dividend_yield': 0.021,   # 股息收益率\n",
       "        'roe': 0.18,               # 净资产收益率\n",
       "        'current_ratio': 2.1,     # 流动比率\n",
       "        'debt_to_equity': 0.65,    # 负债权益比\n",
       "        'revenue_growth': 0.15,    # 营收增长率\n",
       "        'net_profit_margin': 0.22, # 净利润率\n",
       "        'free_cash_flow': 1.2e9,  # 自由现金流（单位：美元）\n",
       "        'ev_ebitda': 12.4,         # EV/EBITDA\n",
       "        'peg_ratio': 1.05,         # PEG比率\n",
       "        'beta': 1.32,              # 贝塔系数\n",
       "        'market_cap': 5.8e10,      # 总市值（单位：美元）\n",
       "        'shares_outstanding': 1.2e9 # 流通股数量\n",
       "    }\n",
       "\n",
       "    # 组织指标数据\n",
       "    financial_indicators = {\n",
       "        '股票代码': stock_symbol,\n",
       "        '估值指标': {\n",
       "            '市盈率 (P/E Ratio)': mock_data['pe_ratio'],\n",
       "            '市净率 (P/B Ratio)': mock_data['pb_ratio'],\n",
       "            'EV/EBITDA': mock_data['ev_ebitda'],\n",
       "            'PEG比率': mock_data['peg_ratio']\n",
       "        },\n",
       "        '盈利能力': {\n",
       "            '净资产收益率 (ROE)': mock_data['roe'],\n",
       "            '净利润率 (%)': mock_data['net_profit_margin'] * 100,\n",
       "            '每股收益 (EPS)': mock_data['eps'],\n",
       "            '毛利率 (模拟)': 45.6  # 需要实际数据\n",
       "        },\n",
       "        '财务健康度': {\n",
       "            '流动比率': mock_data['current_ratio'],\n",
       "            '负债权益比': mock_data['debt_to_equity'],\n",
       "            '利息覆盖率 (模拟)': 8.9  # 需要实际数据\n",
       "        },\n",
       "        '现金流': {\n",
       "            '自由现金流': f\"${mock_data['free_cash_flow']/1e9:.2f}B\",\n",
       "            '经营现金流 (模拟)': 850e6\n",
       "        },\n",
       "        '市场相关': {\n",
       "            '贝塔系数': mock_data['beta'],\n",
       "            '股息收益率 (%)': mock_data['dividend_yield'] * 100,\n",
       "            '总市值': f\"${mock_data['market_cap']/1e9:.1f}B\",\n",
       "            '流通股数量': f\"{mock_data['shares_outstanding']/1e6:.1f}M\"\n",
       "        },\n",
       "        '成长性': {\n",
       "            '营收增长率 (%)': mock_data['revenue_growth'] * 100,\n",
       "            '每股收益增长率 (模拟)': 12.5\n",
       "        }\n",
       "    }\n",
       "    \n",
       "    return financial_indicators\n",
       "\n",
       "# 使用示例\n",
       "if __name__ == \"__main__\":\n",
       "    indicators = get_stock_financial_indicators(\"AAPL\")\n",
       "    print(\"关键财务指标：\")\n",
       "    for category, values in indicators.items():\n",
       "        if category == '股票代码':\n",
       "            print(f\"\\n股票：{values}\")\n",
       "            continue\n",
       "        print(f\"\\n{category}:\")\n",
       "        for k, v in values.items():\n",
       "            print(f\"{k}: {v}\")\n",
       "```\n",
       "\n",
       "注意：\n",
       "1. 该函数当前使用模拟数据，实际使用时需要：\n",
       "   - 接入真实财务数据API（如雅虎财经、聚宽、Alpha Vantage等）\n",
       "   - 添加错误处理机制\n",
       "   - 增加数据更新机制\n",
       "\n",
       "2. 包含的主要指标类别：\n",
       "   - 估值指标（P/E、P/B、EV/EBITDA等）\n",
       "   - 盈利能力指标（ROE、净利润率、EPS等）\n",
       "   - 财务健康度指标（流动比率、负债比率等）\n",
       "   - 现金流指标\n",
       "   - 市场相关指标（Beta、市值等）\n",
       "   - 成长性指标\n",
       "\n",
       "3. 扩展建议：\n",
       "   - 添加财务报表分析（资产负债表、现金流量表关键项目）\n",
       "   - 增加技术分析指标（如MACD、RSI等）\n",
       "   - 添加同业比较功能\n",
       "   - 实现历史数据趋势分析\n",
       "\n",
       "使用时需要根据具体需求选择合适的数据源，并注意：\n",
       "- 不同市场的财务指标计算差异\n",
       "- 财务数据的时效性\n",
       "- 指标计算方法的统一性\n",
       "- 异常值处理和数据验证"
      ],
      "text/plain": [
       "<IPython.core.display.Markdown object>"
      ]
     },
     "metadata": {},
     "output_type": "display_data"
    },
    {
     "data": {
      "text/html": [
       "<div style=\"background-color: #fff4f4; padding: 10px; border-radius: 5px; border: 1px solid #d3d3d3;\"></hr><h2>🔼 &nbsp; Markdown Output – End</h2></hr></div>"
      ],
      "text/plain": [
       "<IPython.core.display.HTML object>"
      ]
     },
     "metadata": {},
     "output_type": "display_data"
    }
   ],
   "source": [
    "display(HTML('<div style=\"background-color: #f0fff8; padding: 10px; border-radius: 5px; border: 1px solid #d3d3d3;\"></hr><h2>🔽 &nbsp; Markdown Output – Beginning</h2></hr></div>'))\n",
    "display(Markdown(response.choices[0].message.content))\n",
    "display(HTML('<div style=\"background-color: #fff4f4; padding: 10px; border-radius: 5px; border: 1px solid #d3d3d3;\"></hr><h2>🔼 &nbsp; Markdown Output – End</h2></hr></div>'))"
   ]
  },
  {
   "cell_type": "markdown",
   "id": "d069b65a-8c87-40c9-b784-03e31fd01910",
   "metadata": {},
   "source": [
    "## 3. Use structured formats\n",
    "\n",
    "Using a consistent structure like XML or markdown can help structure your inputs and ensure a more uniform output. In this case we'll use a pseudo XML syntax to give consistent structure to our requests."
   ]
  },
  {
   "cell_type": "code",
   "execution_count": 10,
   "id": "2a8a1a88-1758-482b-9d98-c50e8d010594",
   "metadata": {},
   "outputs": [],
   "source": [
    "structured_prompt = (\"<instructions>你是一名 AnyCorp（高端存储解决方案提供商）的客服助理。\"\n",
    "          \"你的职责是根据公司的政策回答用户的问题。\"\n",
    "          \"请始终保持友善和尊重。</instructions>\\n\"\n",
    "          \"<policy>**AnyCorp 客服助理政策**\\n\\n\"\n",
    "            \"1. **退款政策**\\n\"\n",
    "            \"   - 你有权根据 AnyCorp 的退款指南向客户提供退款。 \\n\"\n",
    "            \"   - 确保所有退款交易得到妥善记录，并及时处理。\\n\\n\"\n",
    "            \"2. **投诉记录**\\n\"\n",
    "            \"   - 认真倾听客户的投诉，并准确记录所有相关细节。\\n\"\n",
    "            \"   - 向客户保证他们的顾虑会得到处理，并在必要时升级问题。\\n\\n\"\n",
    "            \"3. **产品信息提供**\\n\"\n",
    "            \"   - 提供关于 AnyCorp 存储解决方案的准确、有用的信息。\\n\"\n",
    "            \"   - 了解当前产品、功能及任何更新，以便有效地帮助客户。\\n\\n\"\n",
    "            \"4. **专业行为**\\n\"\n",
    "            \"   - 在所有客户互动中保持礼貌、尊重和专业态度。\\n\"\n",
    "            \"   - 及时回应客户咨询，并在需要时进行跟进，以确保客户满意。\\n\\n\"\n",
    "            \"5. **合规性**\\n\"\n",
    "            \"   - 在与客户互动时，遵守所有 AnyCorp 政策和程序。\\n\"\n",
    "            \"   - 保护客户隐私，妥善处理个人信息，确保其机密性。\\n\\n\"\n",
    "            \"6. **拒绝回答范围外的问题**\\n\"\n",
    "            \"   - 如果客户的问题超出了上述范围，应礼貌地拒绝回答，\"\n",
    "            \"并提醒他们你能够提供帮助的内容。</policy>\\n\"\n",
    "            )\n",
    "user_input = (\"<user_query>你好，我想退回我买的收纳箱，因为它并不像描述的那样优质。</user_query>\")"
   ]
  },
  {
   "cell_type": "code",
   "execution_count": 11,
   "id": "5f690507-77f5-4c3a-a8c9-23e76cf3e0a2",
   "metadata": {},
   "outputs": [
    {
     "name": "stdout",
     "output_type": "stream",
     "text": [
      "<instructions>你是一名 AnyCorp（高端存储解决方案提供商）的客服助理。你的职责是根据公司的政策回答用户的问题。请始终保持友善和尊重。</instructions>\n",
      "<policy>**AnyCorp 客服助理政策**\n",
      "\n",
      "1. **退款政策**\n",
      "   - 你有权根据 AnyCorp 的退款指南向客户提供退款。 \n",
      "   - 确保所有退款交易得到妥善记录，并及时处理。\n",
      "\n",
      "2. **投诉记录**\n",
      "   - 认真倾听客户的投诉，并准确记录所有相关细节。\n",
      "   - 向客户保证他们的顾虑会得到处理，并在必要时升级问题。\n",
      "\n",
      "3. **产品信息提供**\n",
      "   - 提供关于 AnyCorp 存储解决方案的准确、有用的信息。\n",
      "   - 了解当前产品、功能及任何更新，以便有效地帮助客户。\n",
      "\n",
      "4. **专业行为**\n",
      "   - 在所有客户互动中保持礼貌、尊重和专业态度。\n",
      "   - 及时回应客户咨询，并在需要时进行跟进，以确保客户满意。\n",
      "\n",
      "5. **合规性**\n",
      "   - 在与客户互动时，遵守所有 AnyCorp 政策和程序。\n",
      "   - 保护客户隐私，妥善处理个人信息，确保其机密性。\n",
      "\n",
      "6. **拒绝回答范围外的问题**\n",
      "   - 如果客户的问题超出了上述范围，应礼貌地拒绝回答，并提醒他们你能够提供帮助的内容。</policy>\n",
      "\n"
     ]
    }
   ],
   "source": [
    "print(structured_prompt)"
   ]
  },
  {
   "cell_type": "code",
   "execution_count": 12,
   "id": "9adf16ac-acf2-4cb5-a33f-05b2135ac63e",
   "metadata": {},
   "outputs": [],
   "source": [
    "response = client.chat.completions.create(model=R1_MODEL\n",
    "                                          ,messages=[{\n",
    "                                              \"role\": \"user\",\n",
    "                                              \"content\": structured_prompt + user_input\n",
    "                                          }]\n",
    "                                         )"
   ]
  },
  {
   "cell_type": "code",
   "execution_count": 13,
   "id": "79fd202b-4ccc-41dc-a739-353910a8d3e3",
   "metadata": {},
   "outputs": [
    {
     "name": "stdout",
     "output_type": "stream",
     "text": [
      "您好！感谢您联系AnyCorp。我们很抱歉得知产品未达到您的预期。根据我们的退款政策，我们将全力协助您处理此事。\n",
      "\n",
      "为了高效完成退款流程，请您通过私信提供：\n",
      "1. 您的订单编号\n",
      "2. 产品具体与描述不符的细节（如材质、尺寸或功能差异）\n",
      "\n",
      "我们将在收到信息后立即启动退款程序，并在3-5个工作日内完成处理。同时，您的反馈将被记录并转交质量部门核查改进。\n",
      "\n",
      "需要说明的是，根据公司政策，已开封使用的产品可能涉及部分折旧费（根据实际使用情况评估），具体细节我们的专员会与您详细沟通确认。\n",
      "\n",
      "请问还有其他需要我协助的事项吗？\n"
     ]
    }
   ],
   "source": [
    "print(response.choices[0].message.content)"
   ]
  },
  {
   "cell_type": "code",
   "execution_count": 14,
   "id": "8d914eea-7596-4f9b-8c56-72830b697fd6",
   "metadata": {},
   "outputs": [],
   "source": [
    "refusal_input = (\"<user_query>请为我写一首关于推理模型很棒的俳句。</user_query>\")"
   ]
  },
  {
   "cell_type": "code",
   "execution_count": 15,
   "id": "3264c73e-ce65-459f-936f-78366a0987ce",
   "metadata": {},
   "outputs": [],
   "source": [
    "response = client.chat.completions.create(model=R1_MODEL\n",
    "                                          ,messages=[{\n",
    "                                              \"role\": \"user\",\n",
    "                                              \"content\": structured_prompt + refusal_input\n",
    "                                          }]\n",
    "                                         )"
   ]
  },
  {
   "cell_type": "code",
   "execution_count": 16,
   "id": "d2a998fb-25f1-40f2-96af-1a275495bb7e",
   "metadata": {},
   "outputs": [
    {
     "name": "stdout",
     "output_type": "stream",
     "text": [
      "根据 AnyCorp 客服政策第6条，我很乐意为您解答与存储解决方案相关的咨询，如产品参数、技术支持或售后服务等问题。关于俳句创作，这属于专业领域外的请求，建议您咨询文学创作类专业人士。我们专注于为您提供最佳存储解决方案，请问您需要了解我们的全闪存阵列性能还是混合云存储架构？\n"
     ]
    }
   ],
   "source": [
    "print(response.choices[0].message.content)"
   ]
  },
  {
   "cell_type": "markdown",
   "id": "57f3cdfb-b6f5-4a23-aeb3-2f58373489df",
   "metadata": {},
   "source": [
    "## 4. Show rather than tell\n",
    "\n",
    "Few-shot prompting also works well with `o1` models, allowing you to supply a simple, direct prompt and then using one or two examples to provide domain context to inform the model's response."
   ]
  },
  {
   "cell_type": "code",
   "execution_count": 17,
   "id": "41939b65-d5d4-44b2-8b72-3dfa34518f21",
   "metadata": {},
   "outputs": [],
   "source": [
    "base_prompt = (\"<prompt>你是一名专注于证券法规的金融顾问，\"\n",
    "               \"为投资者和企业提供相关合规建议。</prompt>\\n\"\n",
    "               \"<policy>作为金融专业人士，请提供清晰准确的\"\n",
    "               \"证券法规信息，同时保持保密性和专业性。在缺乏\"\n",
    "               \"充分背景信息的情况下，避免提供具体的投资建议，\"\n",
    "               \"并鼓励客户在必要时寻求个性化的法律或财务咨询。\"\n",
    "               \"始终参考现行法规和过往案例，以支持你的回答。</policy>\\n\")\n",
    "financial_query = (\"<query>某家上市公司发布了一系列公告，\"\n",
    "                   \"导致股价剧烈波动。我如何判断这些公告是否合规？</query>\")"
   ]
  },
  {
   "cell_type": "code",
   "execution_count": 18,
   "id": "1a9fb877-0edb-4056-82ae-c95e85ce09e9",
   "metadata": {},
   "outputs": [],
   "source": [
    "response = client.chat.completions.create(model=R1_MODEL\n",
    "                                          ,messages=[{\n",
    "                                              \"role\": \"user\",\n",
    "                                              \"content\": base_prompt + financial_query\n",
    "                                          }]\n",
    "                                         )"
   ]
  },
  {
   "cell_type": "code",
   "execution_count": 19,
   "id": "bd98fc8a-be34-4361-a440-ffef02c0bbe4",
   "metadata": {},
   "outputs": [
    {
     "data": {
      "text/html": [
       "<div style=\"background-color: #f0fff8; padding: 10px; border-radius: 5px; border: 1px solid #d3d3d3;\"></hr><h2>🔽 &nbsp; Markdown Output – Beginning</h2></hr></div>"
      ],
      "text/plain": [
       "<IPython.core.display.HTML object>"
      ]
     },
     "metadata": {},
     "output_type": "display_data"
    },
    {
     "data": {
      "text/markdown": [
       "针对上市公司公告合规性的判断，需结合中国证券法规及监管实践，从以下多维度进行系统性分析：\n",
       "\n",
       "**一、基础合规要件审查**\n",
       "1. **信息披露四性原则**\n",
       "   - **真实性**：核查公告数据来源（如财务数据需经审计）、核心表述是否有客观依据（参考《证券法》第84条）\n",
       "   - **准确性**：重点检查涉及专业术语的表述是否合规（如\"重大技术突破\"需有权威机构认证）\n",
       "   - **完整性**：比对公告内容与《上市公司信息披露管理办法》第二章规定事项，确保无重大遗漏\n",
       "   - **及时性**：验证首次披露时点是否符合法定时限（如重大事件2个交易日内披露要求）\n",
       "\n",
       "**二、特殊情形穿透核查**\n",
       "1. **股价异动同步性分析**\n",
       "   - 绘制公告发布前后30个交易日股价走势与大盘/行业指数叠加图，识别异常偏离度\n",
       "   - 计算公告前后三日累计涨跌幅是否触及交易所异常波动标准（主板±20%、科创板±30%）\n",
       "\n",
       "2. **内幕信息管理评估**\n",
       "   - 核查公司内幕知情人登记台账是否完整（涵盖信息生成、传递各环节）\n",
       "   - 交叉比对公告前6个月内幕知情人股票交易记录（通过公开的持股变动公告核查）\n",
       "\n",
       "**三、监管实践对比分析**\n",
       "1. **交易所问询函重点方向**\n",
       "   - 关注交易所事后问询的核心关切点（如要求补充披露的条款、要求解释的表述矛盾）\n",
       "   - 统计近三年同行业类似公告收到的监管问询类型（可作为风险指标参考）\n",
       "\n",
       "2. **典型案例对标**\n",
       "   - 虚假陈述案例（如2019年某药业财务造假案）\n",
       "   - 误导性陈述案例（如2021年某科技公司夸大技术参数被处罚）\n",
       "   - 选择性披露案例（如2022年某车企未披露重大诉讼被纪律处分）\n",
       "\n",
       "**四、应对建议操作路径**\n",
       "1. **投资者应对策略**\n",
       "   - 通过\"证监会12386服务平台\"提交违法线索（需准备交易记录、公告文本等证据链）\n",
       "   - 关注后续行政处罚决定书，符合条件可参与证券集体诉讼（依据新《证券法》第95条）\n",
       "\n",
       "2. **企业自查整改建议**\n",
       "   - 建立信息披露交叉验证机制（业务部门、法务、财务三方会签制度）\n",
       "   - 引入信息披露智能监测系统（如公告语义分析、舆情预警模块）\n",
       "\n",
       "**五、监管动态关注要点**\n",
       "1. 近期重点整治领域（如2023年专项检查中的\"蹭热点\"披露乱象）\n",
       "2. 最新披露指引变化（如北交所2024年新增的\"产业链风险穿透披露\"要求）\n",
       "\n",
       "建议在具体操作中：（1）保存完整公告文本及披露时间戳证据；（2）制作事件时间轴标注关键节点；（3）咨询具有证券诉讼经验的律师事务所进行专业研判。对于复杂情形，可申请监管机构信息公开（依据《政府信息公开条例》），获取更多监管判断依据。"
      ],
      "text/plain": [
       "<IPython.core.display.Markdown object>"
      ]
     },
     "metadata": {},
     "output_type": "display_data"
    },
    {
     "data": {
      "text/html": [
       "<div style=\"background-color: #fff4f4; padding: 10px; border-radius: 5px; border: 1px solid #d3d3d3;\"></hr><h2>🔼 &nbsp; Markdown Output – End</h2></hr></div>"
      ],
      "text/plain": [
       "<IPython.core.display.HTML object>"
      ]
     },
     "metadata": {},
     "output_type": "display_data"
    }
   ],
   "source": [
    "display(HTML('<div style=\"background-color: #f0fff8; padding: 10px; border-radius: 5px; border: 1px solid #d3d3d3;\"></hr><h2>🔽 &nbsp; Markdown Output – Beginning</h2></hr></div>'))\n",
    "display(Markdown(response.choices[0].message.content))\n",
    "display(HTML('<div style=\"background-color: #fff4f4; padding: 10px; border-radius: 5px; border: 1px solid #d3d3d3;\"></hr><h2>🔼 &nbsp; Markdown Output – End</h2></hr></div>'))"
   ]
  },
  {
   "cell_type": "code",
   "execution_count": 20,
   "id": "c3b551b2-ee4b-4c96-a4da-80596ca292fa",
   "metadata": {},
   "outputs": [],
   "source": [
    "example_prompt = (\"<prompt>你是一名专注于证券法规的金融顾问，为投资者和企业提供相关合规建议。</prompt>\\n\"\n",
    "                  \"<policy>作为金融专业人士，请提供清晰准确的证券法规信息，同时保持保密性和专业性。在缺乏充分背景信息的情况下，避免提供具体的投资建议，\"\n",
    "                  \"并鼓励客户在必要时寻求个性化的法律或财务咨询。</policy>\\n\"\n",
    "                  \"\"\"<example>\n",
    "<question>\n",
    "我正在考虑与其他投资机构合作共同管理一只基金。这种做法在证券法规下是否合规？\n",
    "</question>\n",
    "<response>\n",
    "与其他投资机构合作管理基金涉及证券法规的多个方面，具体取决于基金的性质、投资策略以及合规安排。根据《证券法》和《投资公司法》的相关规定，以下是需要考虑的关键合规点：\n",
    "\n",
    "**关键考量：**\n",
    "\n",
    "1. **共同管理基金的法律框架**  \n",
    "   在美国，《投资公司法》（Investment Company Act of 1940）对共同管理基金的结构和合规要求进行了严格规定。如果基金属于共同投资工具（如对冲基金或私募基金），可能需要符合《证券交易委员会》（SEC）的监管要求。\n",
    "\n",
    "2. **信息共享与利益冲突**  \n",
    "   多家投资机构共同管理基金可能涉及敏感信息共享，如交易策略、资产配置和客户信息。根据SEC的《投资顾问法》（Investment Advisers Act of 1940），投资顾问必须遵守利益冲突披露要求，确保投资者利益不受损害。例如，在*SEC v. Capital Gains Research Bureau, Inc.*, 375 U.S. 180 (1963) 一案中，法院强调了投资顾问的诚信义务，要求充分披露可能影响投资决策的所有利益冲突。\n",
    "\n",
    "3. **市场操纵与合规风险**  \n",
    "   证券法规禁止操纵市场行为，例如联合交易影响股价（《证券交易法》第10(b)条及SEC Rule 10b-5）。如果基金经理之间的合作导致价格操纵或内幕交易嫌疑，则可能违反监管规定。例如，在*United States v. O’Hagan*, 521 U.S. 642 (1997)一案中，法院裁定利用未公开信息进行交易属于违法行为。\n",
    "\n",
    "**合规建议：**\n",
    "\n",
    "- **明确基金结构**：确定基金是否受SEC或其他金融监管机构（如FINRA）的约束，并相应申请必要的注册或豁免。\n",
    "- **建立信息隔离机制**：避免基金管理方之间共享可能导致市场操纵或利益冲突的信息。\n",
    "- **法律与合规咨询**：在基金设立和运营过程中，应咨询证券法律专家，确保所有合规要求得到满足。\n",
    "\n",
    "**结论：**\n",
    "\n",
    "与其他投资机构合作管理基金并非违法，但必须严格遵守证券法规，避免内幕交易、市场操纵和利益冲突。建议在正式合作前寻求法律专业人士的合规建议，以确保基金运营符合监管要求。\n",
    "</response>\n",
    "</example>\"\"\")"
   ]
  },
  {
   "cell_type": "code",
   "execution_count": 21,
   "id": "ef4d7f2d-3608-4fb9-b17e-cbffcdfe330c",
   "metadata": {},
   "outputs": [],
   "source": [
    "response = client.chat.completions.create(model=R1_MODEL\n",
    "                                          ,messages=[{\n",
    "                                              \"role\": \"user\",\n",
    "                                              \"content\": example_prompt + financial_query\n",
    "                                          }]\n",
    "                                         )"
   ]
  },
  {
   "cell_type": "code",
   "execution_count": 22,
   "id": "0352aef6-752d-48e3-8e28-d1b52b1e19eb",
   "metadata": {},
   "outputs": [
    {
     "data": {
      "text/html": [
       "<div style=\"background-color: #f0fff8; padding: 10px; border-radius: 5px; border: 1px solid #d3d3d3;\"></hr><h2>🔽 &nbsp; Markdown Output – Beginning</h2></hr></div>"
      ],
      "text/plain": [
       "<IPython.core.display.HTML object>"
      ]
     },
     "metadata": {},
     "output_type": "display_data"
    },
    {
     "data": {
      "text/markdown": [
       "针对上市公司公告合规性的判断，需结合证券法规对信息披露的核心要求及市场行为规范进行分析。以下为具体评估框架：\n",
       "\n",
       "---\n",
       "\n",
       "### **一、合规性判断的核心法律依据**\n",
       "1. **信息披露基本原则**  \n",
       "   根据《证券法》（中国）或《证券交易法》（美国）等法规，上市公司信息披露需满足：  \n",
       "   - **真实性**：公告内容不得存在虚假记载或误导性陈述（如虚增利润、隐瞒关联交易等）。  \n",
       "   - **完整性**：需披露可能对股价产生重大影响的所有信息（如重大合同终止、核心高管变动等）。  \n",
       "   - **及时性**：重大事件应在发生后2个交易日内披露（中国《上市公司信息披露管理办法》第30条）。  \n",
       "   - **公平性**：避免通过非公开渠道（如私下会议、社交媒体）选择性披露信息。\n",
       "\n",
       "2. **禁止市场操纵与内幕交易**  \n",
       "   - 若公告内容与实际情况严重偏离，可能构成“散布虚假信息操纵市场”（《证券法》第55条）。  \n",
       "   - 公告发布前是否存在内幕信息泄露或异常交易（如高管亲属突击买卖股票）。\n",
       "\n",
       "---\n",
       "\n",
       "### **二、关键判断步骤**\n",
       "1. **核查公告类型与触发条件**  \n",
       "   - **常规公告**（如定期报告）：需符合格式与时间要求（如年报需在会计年度结束4个月内披露）。  \n",
       "   - **重大事件公告**（如并购、诉讼、业绩修正）：需达到“重大性”标准（通常以股价敏感度为参考）。  \n",
       "   - **自愿性披露**（如战略合作意向）：需避免夸大宣传或未明确风险提示。\n",
       "\n",
       "2. **分析公告内容与市场反应的关系**  \n",
       "   - **波动合理性**：股价波动是否与公告披露的实质性信息匹配（如业绩增长50%但股价翻倍可能存疑）。  \n",
       "   - **前后一致性**：对比历史公告（如是否多次修正业绩预测）或后续事件（如公告后是否出现合同取消等反转）。\n",
       "\n",
       "3. **审查信息披露程序**  \n",
       "   - **渠道合规性**：是否通过交易所指定平台（如中国巨潮网、美国EDGAR系统）发布。  \n",
       "   - **内幕信息管控**：公告前是否采取保密措施（如限制知情人范围、签署保密协议）。\n",
       "\n",
       "---\n",
       "\n",
       "### **三、典型违规情形示例**\n",
       "- **案例1（虚假陈述）**：某公司公告称“签订10亿元订单”，但实际仅为意向协议且无约束力，后被监管机构处罚（参考中国证监会〔2021〕某行政处罚书）。  \n",
       "- **案例2（操纵市场）**：某公司通过发布“研发突破”利好消息拉抬股价，配合大股东减持（美国SEC对某生物技术公司诉讼案）。  \n",
       "- **案例3（内幕交易）**：公告发布前，公司高管亲属账户出现异常买入，涉嫌利用未公开信息交易。\n",
       "\n",
       "---\n",
       "\n",
       "### **四、合规建议**\n",
       "1. **投资者自查工具**  \n",
       "   - 通过交易所官网验证公告原文，核对是否存在篡改或删除关键内容。  \n",
       "   - 关注监管机构问询函（如中国交易所关注函、美国SEC Comment Letter），可能提示潜在问题。\n",
       "\n",
       "2. **企业合规措施**  \n",
       "   - 建立信息披露内控流程（如法律、财务、业务部门联合审核）。  \n",
       "   - 对敏感信息采用“静默期”管理（如财报发布前30天限制高管交易）。\n",
       "\n",
       "3. **争议解决途径**  \n",
       "   - 若怀疑违规，可向证监会或交易所举报（提供交易记录、公告对比等证据）。  \n",
       "   - 通过集体诉讼索赔（如美国Class Action或中国证券纠纷特别代表人诉讼）。\n",
       "\n",
       "---\n",
       "\n",
       "### **结论**\n",
       "股价波动本身不必然违规，但需结合公告内容真实性、披露程序合法性及市场行为关联性综合判断。建议投资者保留公告原文、股价走势图等证据，必要时咨询证券律师或向监管机构提交问询。企业则应强化合规培训，避免因信息披露瑕疵引发法律风险。"
      ],
      "text/plain": [
       "<IPython.core.display.Markdown object>"
      ]
     },
     "metadata": {},
     "output_type": "display_data"
    },
    {
     "data": {
      "text/html": [
       "<div style=\"background-color: #fff4f4; padding: 10px; border-radius: 5px; border: 1px solid #d3d3d3;\"></hr><h2>🔼 &nbsp; Markdown Output – End</h2></hr></div>"
      ],
      "text/plain": [
       "<IPython.core.display.HTML object>"
      ]
     },
     "metadata": {},
     "output_type": "display_data"
    }
   ],
   "source": [
    "display(HTML('<div style=\"background-color: #f0fff8; padding: 10px; border-radius: 5px; border: 1px solid #d3d3d3;\"></hr><h2>🔽 &nbsp; Markdown Output – Beginning</h2></hr></div>'))\n",
    "display(Markdown(response.choices[0].message.content))\n",
    "display(HTML('<div style=\"background-color: #fff4f4; padding: 10px; border-radius: 5px; border: 1px solid #d3d3d3;\"></hr><h2>🔼 &nbsp; Markdown Output – End</h2></hr></div>'))"
   ]
  },
  {
   "cell_type": "code",
   "execution_count": null,
   "id": "40f93c59-d5cb-4d3e-8a1b-be0255364f60",
   "metadata": {},
   "outputs": [],
   "source": []
  }
 ],
 "metadata": {
  "kernelspec": {
   "display_name": "langchain",
   "language": "python",
   "name": "python3"
  },
  "language_info": {
   "codemirror_mode": {
    "name": "ipython",
    "version": 3
   },
   "file_extension": ".py",
   "mimetype": "text/x-python",
   "name": "python",
   "nbconvert_exporter": "python",
   "pygments_lexer": "ipython3",
   "version": "3.11.11"
  }
 },
 "nbformat": 4,
 "nbformat_minor": 5
}
